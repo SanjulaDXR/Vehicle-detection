{
 "cells": [
  {
   "cell_type": "code",
   "execution_count": 1,
   "id": "7c342d85",
   "metadata": {},
   "outputs": [
    {
     "name": "stdout",
     "output_type": "stream",
     "text": [
      "['non-vehicles', 'vehicles']\n",
      "[0 1]\n",
      "{'non-vehicles': 0, 'vehicles': 1}\n"
     ]
    }
   ],
   "source": [
    "import os \n",
    "import numpy as np\n",
    "\n",
    "data_path=r'dataset' #path for dataset\n",
    "\n",
    "categories=os.listdir(data_path) #category types in the dataset\n",
    "print(categories)\n",
    "labels=np.arange(len(categories))\n",
    "print(labels)\n",
    "label_dict=dict(zip(categories,labels))\n",
    "print(label_dict)"
   ]
  },
  {
   "cell_type": "code",
   "execution_count": 2,
   "id": "8b765e58",
   "metadata": {},
   "outputs": [],
   "source": [
    "import cv2\n",
    "\n",
    "img_size=64 #img size 100,100\n",
    "\n",
    "data=[]\n",
    "target=[]\n",
    "\n",
    "for category in categories:\n",
    "    \n",
    "    imgs_path=os.path.join(data_path,category)\n",
    "    img_names=os.listdir(imgs_path)\n",
    "    #print(img_names)\n",
    "    \n",
    "    for img_name in img_names: #apply preprocessing to data in dataset\n",
    "        \n",
    "        img_path=os.path.join(imgs_path,img_name)\n",
    "        #print(img_path)\n",
    "        try:\n",
    "            img=cv2.imread(img_path)\n",
    "            img=cv2.cvtColor(img,cv2.COLOR_BGR2GRAY) #convert img\n",
    "            img=cv2.resize(img,(img_size,img_size))\n",
    "            data.append(img)\n",
    "            target.append(label_dict[category])\n",
    "        except Exception as e:\n",
    "            print(img_path,e)"
   ]
  },
  {
   "cell_type": "code",
   "execution_count": 3,
   "id": "228aaf00",
   "metadata": {},
   "outputs": [],
   "source": [
    "data_new=np.array(data)\n",
    "target_new=np.array(target)"
   ]
  },
  {
   "cell_type": "code",
   "execution_count": 4,
   "id": "6aa93a68",
   "metadata": {},
   "outputs": [
    {
     "name": "stdout",
     "output_type": "stream",
     "text": [
      "(55756, 64, 64)\n",
      "(55756,)\n"
     ]
    }
   ],
   "source": [
    "print(data_new.shape)\n",
    "print(target_new.shape)"
   ]
  },
  {
   "cell_type": "code",
   "execution_count": 5,
   "id": "f74343fe",
   "metadata": {},
   "outputs": [
    {
     "data": {
      "text/plain": [
       "<matplotlib.image.AxesImage at 0x10cfc9623d0>"
      ]
     },
     "execution_count": 5,
     "metadata": {},
     "output_type": "execute_result"
    },
    {
     "data": {
      "image/png": "[encoded data removed]",
      "text/plain": [
       "<Figure size 432x288 with 1 Axes>"
      ]
     },
     "metadata": {
      "needs_background": "light"
     },
     "output_type": "display_data"
    }
   ],
   "source": [
    "from matplotlib import pyplot as plt\n",
    "\n",
    "plt.imshow(data[45],cmap='gray')"
   ]
  },
  {
   "cell_type": "code",
   "execution_count": 6,
   "id": "b4ec611f",
   "metadata": {},
   "outputs": [
    {
     "data": {
      "text/plain": [
       "0"
      ]
     },
     "execution_count": 6,
     "metadata": {},
     "output_type": "execute_result"
    }
   ],
   "source": [
    "target_new[45]"
   ]
  },
  {
   "cell_type": "code",
   "execution_count": 7,
   "id": "527aa32c",
   "metadata": {},
   "outputs": [
    {
     "name": "stdout",
     "output_type": "stream",
     "text": [
      "(55756, 64, 64)\n",
      "55756 64 64\n"
     ]
    }
   ],
   "source": [
    "print(data_new.shape)\n",
    "print(data_new.shape[0],data_new.shape[1],data_new.shape[2])"
   ]
  },
  {
   "cell_type": "code",
   "execution_count": 8,
   "id": "65f47a5d",
   "metadata": {},
   "outputs": [
    {
     "name": "stdout",
     "output_type": "stream",
     "text": [
      "(55756, 64, 64, 1)\n"
     ]
    }
   ],
   "source": [
    "data_new=data_new.reshape(data_new.shape[0],data_new.shape[1],data_new.shape[2],1) # converting to 4D, CNN needs 4D input\n",
    "print(data_new.shape)"
   ]
  },
  {
   "cell_type": "code",
   "execution_count": 9,
   "id": "def0681e",
   "metadata": {},
   "outputs": [],
   "source": [
    "data_new=data_new/255 #normalizing and Scaling\n",
    "\n",
    "from keras.utils import np_utils\n",
    "\n",
    "target_new=np_utils.to_categorical(target_new)"
   ]
  },
  {
   "cell_type": "code",
   "execution_count": 10,
   "id": "09bc9ca8",
   "metadata": {},
   "outputs": [],
   "source": [
    "np.save('data',data_new) #save train_data\n",
    "np.save('target',target_new)#save train_target"
   ]
  },
  {
   "cell_type": "code",
   "execution_count": 11,
   "id": "f3d9a05f",
   "metadata": {},
   "outputs": [],
   "source": [
    "data=np.load('data.npy')  #load train_data\n",
    "target=np.load('target.npy')#load train_target"
   ]
  },
  {
   "cell_type": "code",
   "execution_count": 12,
   "id": "0e69b477",
   "metadata": {},
   "outputs": [
    {
     "name": "stdout",
     "output_type": "stream",
     "text": [
      "(55756, 64, 64, 1)\n",
      "(55756, 2)\n"
     ]
    }
   ],
   "source": [
    "print(data.shape)\n",
    "print(target.shape)"
   ]
  },
  {
   "cell_type": "code",
   "execution_count": 13,
   "id": "135bd658",
   "metadata": {},
   "outputs": [
    {
     "name": "stdout",
     "output_type": "stream",
     "text": [
      "(64, 64, 1)\n"
     ]
    }
   ],
   "source": [
    "print(data.shape[1:])"
   ]
  },
  {
   "cell_type": "code",
   "execution_count": 14,
   "id": "0781d1f1",
   "metadata": {},
   "outputs": [
    {
     "name": "stdout",
     "output_type": "stream",
     "text": [
      "Model: \"sequential\"\n",
      "_________________________________________________________________\n",
      " Layer (type)                Output Shape              Param #   \n",
      "=================================================================\n",
      " conv2d (Conv2D)             (None, 62, 62, 64)        640       \n",
      "                                                                 \n",
      " activation (Activation)     (None, 62, 62, 64)        0         \n",
      "                                                                 \n",
      " max_pooling2d (MaxPooling2D  (None, 31, 31, 64)       0         \n",
      " )                                                               \n",
      "                                                                 \n",
      " conv2d_1 (Conv2D)           (None, 27, 27, 32)        51232     \n",
      "                                                                 \n",
      " activation_1 (Activation)   (None, 27, 27, 32)        0         \n",
      "                                                                 \n",
      " max_pooling2d_1 (MaxPooling  (None, 13, 13, 32)       0         \n",
      " 2D)                                                             \n",
      "                                                                 \n",
      " conv2d_2 (Conv2D)           (None, 11, 11, 16)        4624      \n",
      "                                                                 \n",
      " activation_2 (Activation)   (None, 11, 11, 16)        0         \n",
      "                                                                 \n",
      " max_pooling2d_2 (MaxPooling  (None, 5, 5, 16)         0         \n",
      " 2D)                                                             \n",
      "                                                                 \n",
      " flatten (Flatten)           (None, 400)               0         \n",
      "                                                                 \n",
      " dense (Dense)               (None, 50)                20050     \n",
      "                                                                 \n",
      " dense_1 (Dense)             (None, 25)                1275      \n",
      "                                                                 \n",
      " dense_2 (Dense)             (None, 2)                 52        \n",
      "                                                                 \n",
      "=================================================================\n",
      "Total params: 77,873\n",
      "Trainable params: 77,873\n",
      "Non-trainable params: 0\n",
      "_________________________________________________________________\n"
     ]
    }
   ],
   "source": [
    "#apply basic layers\n",
    "from keras.models import Sequential\n",
    "from keras.layers import Conv2D,MaxPooling2D,Dense,Flatten,Activation\n",
    "\n",
    "model=Sequential()\n",
    "\n",
    "model.add(Conv2D(64,(3,3),input_shape=data.shape[1:]))\n",
    "model.add(Activation('relu'))\n",
    "model.add(MaxPooling2D(pool_size=(2,2)))\n",
    "\n",
    "model.add(Conv2D(32,(5,5)))\n",
    "model.add(Activation('relu'))\n",
    "model.add(MaxPooling2D(pool_size=(2,2)))\n",
    "\n",
    "model.add(Conv2D(16,(3,3)))\n",
    "model.add(Activation('relu'))\n",
    "model.add(MaxPooling2D(pool_size=(2,2)))\n",
    "\n",
    "model.add(Flatten())\n",
    "\n",
    "model.add(Dense(50,activation='relu'))\n",
    "model.add(Dense(25,activation='relu'))\n",
    "model.add(Dense(2,activation='softmax'))\n",
    "\n",
    "model.compile(loss='categorical_crossentropy',optimizer='adam',metrics=['accuracy'])\n",
    "\n",
    "model.summary()"
   ]
  },
  {
   "cell_type": "code",
   "execution_count": 15,
   "id": "3e6e6bfe",
   "metadata": {
    "scrolled": true
   },
   "outputs": [
    {
     "name": "stdout",
     "output_type": "stream",
     "text": [
      "Epoch 1/20\n",
      "1394/1394 [==============================] - 217s 154ms/step - loss: 0.2921 - accuracy: 0.8753 - val_loss: 0.4752 - val_accuracy: 0.8054\n",
      "Epoch 2/20\n",
      "1394/1394 [==============================] - 219s 157ms/step - loss: 0.1551 - accuracy: 0.9376 - val_loss: 0.1861 - val_accuracy: 0.9240\n",
      "Epoch 3/20\n",
      "1394/1394 [==============================] - 225s 161ms/step - loss: 0.1055 - accuracy: 0.9598 - val_loss: 0.1077 - val_accuracy: 0.9597\n",
      "Epoch 4/20\n",
      "1394/1394 [==============================] - 229s 164ms/step - loss: 0.0861 - accuracy: 0.9676 - val_loss: 0.0858 - val_accuracy: 0.9702\n",
      "Epoch 5/20\n",
      "1394/1394 [==============================] - 211s 151ms/step - loss: 0.0699 - accuracy: 0.9747 - val_loss: 0.0802 - val_accuracy: 0.9669\n",
      "Epoch 6/20\n",
      "1394/1394 [==============================] - 221s 159ms/step - loss: 0.0617 - accuracy: 0.9763 - val_loss: 0.1011 - val_accuracy: 0.9624\n",
      "Epoch 7/20\n",
      "1394/1394 [==============================] - 205s 147ms/step - loss: 0.0528 - accuracy: 0.9803 - val_loss: 0.1893 - val_accuracy: 0.9234\n",
      "Epoch 8/20\n",
      "1394/1394 [==============================] - 199s 143ms/step - loss: 0.0448 - accuracy: 0.9840 - val_loss: 0.1942 - val_accuracy: 0.9322\n",
      "Epoch 9/20\n",
      "1394/1394 [==============================] - 200s 144ms/step - loss: 0.0408 - accuracy: 0.9854 - val_loss: 0.1725 - val_accuracy: 0.9429\n",
      "Epoch 10/20\n",
      "1394/1394 [==============================] - 204s 146ms/step - loss: 0.0343 - accuracy: 0.9878 - val_loss: 0.0977 - val_accuracy: 0.9692\n",
      "Epoch 11/20\n",
      "1394/1394 [==============================] - 200s 143ms/step - loss: 0.0328 - accuracy: 0.9880 - val_loss: 0.1951 - val_accuracy: 0.9423\n",
      "Epoch 12/20\n",
      "1394/1394 [==============================] - 199s 142ms/step - loss: 0.0307 - accuracy: 0.9884 - val_loss: 0.0829 - val_accuracy: 0.9754\n",
      "Epoch 13/20\n",
      "1394/1394 [==============================] - 199s 142ms/step - loss: 0.0268 - accuracy: 0.9906 - val_loss: 0.3128 - val_accuracy: 0.9095\n",
      "Epoch 14/20\n",
      "1394/1394 [==============================] - 199s 143ms/step - loss: 0.0269 - accuracy: 0.9897 - val_loss: 0.1080 - val_accuracy: 0.9707\n",
      "Epoch 15/20\n",
      "1394/1394 [==============================] - 200s 144ms/step - loss: 0.0219 - accuracy: 0.9918 - val_loss: 0.1872 - val_accuracy: 0.9502\n",
      "Epoch 16/20\n",
      "1394/1394 [==============================] - 198s 142ms/step - loss: 0.0228 - accuracy: 0.9918 - val_loss: 0.2610 - val_accuracy: 0.9314\n",
      "Epoch 17/20\n",
      "1394/1394 [==============================] - 199s 143ms/step - loss: 0.0212 - accuracy: 0.9926 - val_loss: 0.2319 - val_accuracy: 0.9405\n",
      "Epoch 18/20\n",
      "1394/1394 [==============================] - 200s 144ms/step - loss: 0.0189 - accuracy: 0.9934 - val_loss: 0.2217 - val_accuracy: 0.9449\n",
      "Epoch 19/20\n",
      "1394/1394 [==============================] - 207s 149ms/step - loss: 0.0194 - accuracy: 0.9930 - val_loss: 0.3771 - val_accuracy: 0.9094\n",
      "Epoch 20/20\n",
      "1394/1394 [==============================] - 204s 146ms/step - loss: 0.0173 - accuracy: 0.9936 - val_loss: 0.2342 - val_accuracy: 0.9422\n"
     ]
    }
   ],
   "source": [
    "history = model.fit(data,target,epochs=20,validation_split=0.2,batch_size=32) #traniing"
   ]
  },
  {
   "cell_type": "code",
   "execution_count": 17,
   "id": "c0105b00",
   "metadata": {},
   "outputs": [
    {
     "data": {
      "text/plain": [
       "[<matplotlib.lines.Line2D at 0x10cc5530e80>]"
      ]
     },
     "execution_count": 17,
     "metadata": {},
     "output_type": "execute_result"
    },
    {
     "data": {
      "image/png": "[encoded data removed]",
      "text/plain": [
       "<Figure size 432x288 with 1 Axes>"
      ]
     },
     "metadata": {
      "needs_background": "light"
     },
     "output_type": "display_data"
    }
   ],
   "source": [
    "from matplotlib import pyplot as plt\n",
    "\n",
    "plt.plot(model.history.history['loss'],'b')\n",
    "plt.plot(model.history.history['val_loss'],'r')"
   ]
  },
  {
   "cell_type": "code",
   "execution_count": 19,
   "id": "e5798da0",
   "metadata": {},
   "outputs": [],
   "source": [
    "model.save_weights(r'TEST_first.h5')"
   ]
  },
  {
   "cell_type": "code",
   "execution_count": 20,
   "id": "143b4e47",
   "metadata": {},
   "outputs": [
    {
     "data": {
      "text/plain": [
       "[<matplotlib.lines.Line2D at 0x10cc573bc10>]"
      ]
     },
     "execution_count": 20,
     "metadata": {},
     "output_type": "execute_result"
    },
    {
     "data": {
      "image/png": "[encoded data removed]",
      "text/plain": [
       "<Figure size 432x288 with 1 Axes>"
      ]
     },
     "metadata": {
      "needs_background": "light"
     },
     "output_type": "display_data"
    }
   ],
   "source": [
    "plt.plot(model.history.history['accuracy'],'b')\n",
    "plt.plot(model.history.history['val_accuracy'],'r')"
   ]
  },
  {
   "cell_type": "code",
   "execution_count": null,
   "id": "42e8f7d8",
   "metadata": {},
   "outputs": [],
   "source": []
  },
  {
   "cell_type": "code",
   "execution_count": null,
   "id": "6aaf6c3d",
   "metadata": {},
   "outputs": [],
   "source": []
  },
  {
   "cell_type": "code",
   "execution_count": null,
   "id": "f8b0b89d",
   "metadata": {},
   "outputs": [],
   "source": []
  }
 ],
 "metadata": {
  "kernelspec": {
   "display_name": "Python 3 (ipykernel)",
   "language": "python",
   "name": "python3"
  },
  "language_info": {
   "codemirror_mode": {
    "name": "ipython",
    "version": 3
   },
   "file_extension": ".py",
   "mimetype": "text/x-python",
   "name": "python",
   "nbconvert_exporter": "python",
   "pygments_lexer": "ipython3",
   "version": "3.9.7"
  }
 },
 "nbformat": 4,
 "nbformat_minor": 5
}
