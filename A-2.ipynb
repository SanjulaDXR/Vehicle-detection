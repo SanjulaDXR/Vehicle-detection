{
 "cells": [
  {
   "cell_type": "code",
   "execution_count": 3,
   "id": "24cf0ee4",
   "metadata": {
    "executionInfo": {
     "elapsed": 867,
     "status": "ok",
     "timestamp": 1655127413248,
     "user": {
      "displayName": "Sanjula Kalansooriya",
      "userId": "18016726376643910942"
     },
     "user_tz": -330
    },
    "id": "lPqnS0l5HTh8"
   },
   "outputs": [],
   "source": [
    "import numpy as np\n",
    "\n",
    "train_data=np.load('data.npy')\n",
    "train_target=np.load('target.npy')\n",
    "test_data=np.load('test_data.npy')\n",
    "test_target=np.load('test_target.npy')\n"
   ]
  },
  {
   "cell_type": "code",
   "execution_count": 10,
   "id": "03d98b08",
   "metadata": {
    "executionInfo": {
     "elapsed": 366,
     "status": "ok",
     "timestamp": 1655127414832,
     "user": {
      "displayName": "Sanjula Kalansooriya",
      "userId": "18016726376643910942"
     },
     "user_tz": -330
    },
    "id": "BwB-jDLLRKXT"
   },
   "outputs": [],
   "source": [
    "from keras.models import Sequential\n",
    "from keras.layers import Dense,Activation,Flatten\n",
    "from keras.layers import Conv2D,MaxPooling2D,Dropout,BatchNormalization\n",
    "\n",
    "model=Sequential()\n",
    "\n",
    "model.add(Conv2D(128,(3,3),input_shape=train_data.shape[1:],kernel_initializer = 'orthogonal'))\n",
    "#model.add(BatchNormalization())\n",
    "model.add(Activation('relu'))\n",
    "model.add(MaxPooling2D(pool_size=(2,2)))\n",
    "\n",
    "\n",
    "model.add(Conv2D(64,(3,3),kernel_initializer = 'orthogonal'))\n",
    "#model.add(BatchNormalization())\n",
    "model.add(Activation('relu'))\n",
    "model.add(MaxPooling2D(pool_size=(2,2)))\n",
    "\n",
    "\n",
    "model.add(Conv2D(32,(3,3),kernel_initializer = 'orthogonal'))\n",
    "#model.add(BatchNormalization())\n",
    "model.add(Activation('relu'))\n",
    "model.add(MaxPooling2D(pool_size=(2,2)))\n",
    "\n",
    "\n",
    "model.add(Flatten())\n",
    "model.add(Dropout(0.5))\n",
    "model.add(Dense(200,activation='relu'))\n",
    "model.add(Dropout(0.5))\n",
    "model.add(Dense(100,activation='relu'))\n",
    "model.add(Dropout(0.5))\n",
    "model.add(Dense(50,activation='relu'))\n",
    "model.add(Dropout(0.5))\n",
    "model.add(Dense(2,activation='softmax'))"
   ]
  },
  {
   "cell_type": "code",
   "execution_count": 11,
   "id": "b5ffae20",
   "metadata": {
    "colab": {
     "base_uri": "https://localhost:8080/"
    },
    "executionInfo": {
     "elapsed": 584,
     "status": "ok",
     "timestamp": 1655127417422,
     "user": {
      "displayName": "Sanjula Kalansooriya",
      "userId": "18016726376643910942"
     },
     "user_tz": -330
    },
    "id": "0d9Yx5LrRjH8",
    "outputId": "c96e1ebe-edb2-4050-bda1-a4576d4883b9"
   },
   "outputs": [
    {
     "name": "stdout",
     "output_type": "stream",
     "text": [
      "Model: \"sequential_6\"\n",
      "_________________________________________________________________\n",
      " Layer (type)                Output Shape              Param #   \n",
      "=================================================================\n",
      " conv2d_6 (Conv2D)           (None, 62, 62, 128)       1280      \n",
      "                                                                 \n",
      " activation_3 (Activation)   (None, 62, 62, 128)       0         \n",
      "                                                                 \n",
      " max_pooling2d_3 (MaxPooling  (None, 31, 31, 128)      0         \n",
      " 2D)                                                             \n",
      "                                                                 \n",
      " conv2d_7 (Conv2D)           (None, 29, 29, 64)        73792     \n",
      "                                                                 \n",
      " activation_4 (Activation)   (None, 29, 29, 64)        0         \n",
      "                                                                 \n",
      " max_pooling2d_4 (MaxPooling  (None, 14, 14, 64)       0         \n",
      " 2D)                                                             \n",
      "                                                                 \n",
      " conv2d_8 (Conv2D)           (None, 12, 12, 32)        18464     \n",
      "                                                                 \n",
      " activation_5 (Activation)   (None, 12, 12, 32)        0         \n",
      "                                                                 \n",
      " max_pooling2d_5 (MaxPooling  (None, 6, 6, 32)         0         \n",
      " 2D)                                                             \n",
      "                                                                 \n",
      " flatten_1 (Flatten)         (None, 1152)              0         \n",
      "                                                                 \n",
      " dropout_4 (Dropout)         (None, 1152)              0         \n",
      "                                                                 \n",
      " dense_3 (Dense)             (None, 200)               230600    \n",
      "                                                                 \n",
      " dropout_5 (Dropout)         (None, 200)               0         \n",
      "                                                                 \n",
      " dense_4 (Dense)             (None, 100)               20100     \n",
      "                                                                 \n",
      " dropout_6 (Dropout)         (None, 100)               0         \n",
      "                                                                 \n",
      " dense_5 (Dense)             (None, 50)                5050      \n",
      "                                                                 \n",
      " dropout_7 (Dropout)         (None, 50)                0         \n",
      "                                                                 \n",
      " dense_6 (Dense)             (None, 2)                 102       \n",
      "                                                                 \n",
      "=================================================================\n",
      "Total params: 349,388\n",
      "Trainable params: 349,388\n",
      "Non-trainable params: 0\n",
      "_________________________________________________________________\n"
     ]
    }
   ],
   "source": [
    "model.compile(loss='categorical_crossentropy',optimizer='adam',metrics=['accuracy'])\n",
    "\n",
    "model.summary()\n"
   ]
  },
  {
   "cell_type": "code",
   "execution_count": 12,
   "id": "48beceb4",
   "metadata": {
    "executionInfo": {
     "elapsed": 532,
     "status": "ok",
     "timestamp": 1655127419486,
     "user": {
      "displayName": "Sanjula Kalansooriya",
      "userId": "18016726376643910942"
     },
     "user_tz": -330
    },
    "id": "dp7tnFq8RjMm"
   },
   "outputs": [],
   "source": [
    "from keras.preprocessing.image import ImageDataGenerator\n",
    "\n",
    "augmentation = ImageDataGenerator(rotation_range=15,zoom_range=0.12,width_shift_range=0.2,height_shift_range=0.2,shear_range=0.12,horizontal_flip=True,fill_mode=\"nearest\")\n"
   ]
  },
  {
   "cell_type": "code",
   "execution_count": 13,
   "id": "a2062052",
   "metadata": {
    "colab": {
     "base_uri": "https://localhost:8080/"
    },
    "executionInfo": {
     "elapsed": 238095,
     "status": "ok",
     "timestamp": 1655127659165,
     "user": {
      "displayName": "Sanjula Kalansooriya",
      "userId": "18016726376643910942"
     },
     "user_tz": -330
    },
    "id": "PiaD-uApRjPE",
    "outputId": "28e8ea3f-247b-47e8-b322-ab32966d5210"
   },
   "outputs": [
    {
     "name": "stdout",
     "output_type": "stream",
     "text": [
      "Epoch 1/30\n",
      "1742/1742 [==============================] - ETA: 0s - loss: 0.3922 - accuracy: 0.8235WARNING:tensorflow:Your input ran out of data; interrupting training. Make sure that your dataset or generator can generate at least `steps_per_epoch * epochs` batches (in this case, 1742 batches). You may need to use the repeat() function when building your dataset.\n",
      "1742/1742 [==============================] - 447s 256ms/step - loss: 0.3922 - accuracy: 0.8235 - val_loss: 0.2060 - val_accuracy: 0.9239\n",
      "Epoch 2/30\n",
      "1742/1742 [==============================] - 349s 201ms/step - loss: 0.2615 - accuracy: 0.8950\n",
      "Epoch 3/30\n",
      "1742/1742 [==============================] - 345s 198ms/step - loss: 0.2215 - accuracy: 0.9136\n",
      "Epoch 4/30\n",
      "1742/1742 [==============================] - 344s 198ms/step - loss: 0.2000 - accuracy: 0.9228\n",
      "Epoch 5/30\n",
      "1742/1742 [==============================] - 344s 198ms/step - loss: 0.1900 - accuracy: 0.9282\n",
      "Epoch 6/30\n",
      "1742/1742 [==============================] - 344s 197ms/step - loss: 0.1801 - accuracy: 0.9304\n",
      "Epoch 7/30\n",
      "1742/1742 [==============================] - 345s 198ms/step - loss: 0.1703 - accuracy: 0.9355\n",
      "Epoch 8/30\n",
      "1742/1742 [==============================] - 343s 197ms/step - loss: 0.1656 - accuracy: 0.9374\n",
      "Epoch 9/30\n",
      "1742/1742 [==============================] - 344s 197ms/step - loss: 0.1571 - accuracy: 0.9413\n",
      "Epoch 10/30\n",
      "1742/1742 [==============================] - 343s 197ms/step - loss: 0.1535 - accuracy: 0.9430\n",
      "Epoch 11/30\n",
      "1742/1742 [==============================] - 342s 196ms/step - loss: 0.1505 - accuracy: 0.9444\n",
      "Epoch 12/30\n",
      "1742/1742 [==============================] - 342s 197ms/step - loss: 0.1429 - accuracy: 0.9477\n",
      "Epoch 13/30\n",
      "1742/1742 [==============================] - 344s 197ms/step - loss: 0.1461 - accuracy: 0.9460\n",
      "Epoch 14/30\n",
      "1742/1742 [==============================] - 342s 196ms/step - loss: 0.1393 - accuracy: 0.9491\n",
      "Epoch 15/30\n",
      "1742/1742 [==============================] - 342s 197ms/step - loss: 0.1373 - accuracy: 0.9498\n",
      "Epoch 16/30\n",
      "1742/1742 [==============================] - 342s 196ms/step - loss: 0.1370 - accuracy: 0.9490\n",
      "Epoch 17/30\n",
      "1742/1742 [==============================] - 342s 196ms/step - loss: 0.1306 - accuracy: 0.9528\n",
      "Epoch 18/30\n",
      "1742/1742 [==============================] - 342s 196ms/step - loss: 0.1344 - accuracy: 0.9511\n",
      "Epoch 19/30\n",
      "1742/1742 [==============================] - 341s 196ms/step - loss: 0.1316 - accuracy: 0.9518\n",
      "Epoch 20/30\n",
      "1742/1742 [==============================] - 342s 196ms/step - loss: 0.1296 - accuracy: 0.9530\n",
      "Epoch 21/30\n",
      "1742/1742 [==============================] - 342s 196ms/step - loss: 0.1270 - accuracy: 0.9539\n",
      "Epoch 22/30\n",
      "1742/1742 [==============================] - 343s 197ms/step - loss: 0.1198 - accuracy: 0.9568\n",
      "Epoch 23/30\n",
      "1742/1742 [==============================] - 342s 196ms/step - loss: 0.1224 - accuracy: 0.9562\n",
      "Epoch 24/30\n",
      "1742/1742 [==============================] - 343s 197ms/step - loss: 0.1219 - accuracy: 0.9554\n",
      "Epoch 25/30\n",
      "1742/1742 [==============================] - 344s 197ms/step - loss: 0.1228 - accuracy: 0.9560\n",
      "Epoch 26/30\n",
      "1742/1742 [==============================] - 341s 196ms/step - loss: 0.1180 - accuracy: 0.9575\n",
      "Epoch 27/30\n",
      "1742/1742 [==============================] - 342s 196ms/step - loss: 0.1238 - accuracy: 0.9556\n",
      "Epoch 28/30\n",
      "1742/1742 [==============================] - 342s 196ms/step - loss: 0.1187 - accuracy: 0.9575\n",
      "Epoch 29/30\n",
      "1742/1742 [==============================] - 342s 196ms/step - loss: 0.1133 - accuracy: 0.9602\n",
      "Epoch 30/30\n",
      "1742/1742 [==============================] - 342s 196ms/step - loss: 0.1142 - accuracy: 0.9594\n"
     ]
    }
   ],
   "source": [
    "batchsize=32\n",
    "\n",
    "history=model.fit(augmentation.flow(train_data,train_target,batch_size=batchsize),steps_per_epoch=len(train_data)//batchsize,\n",
    "                  validation_data=(test_data,test_target),validation_steps=len(test_data)//batchsize,epochs=30)"
   ]
  },
  {
   "cell_type": "code",
   "execution_count": 14,
   "id": "6e4b1e81",
   "metadata": {
    "colab": {
     "base_uri": "https://localhost:8080/",
     "height": 286
    },
    "executionInfo": {
     "elapsed": 736,
     "status": "ok",
     "timestamp": 1655127670230,
     "user": {
      "displayName": "Sanjula Kalansooriya",
      "userId": "18016726376643910942"
     },
     "user_tz": -330
    },
    "id": "Vwu-nXIkRjRe",
    "outputId": "78121f9d-e832-44a8-c0be-4eef4f3f5df6"
   },
   "outputs": [
    {
     "data": {
      "text/plain": [
       "[<matplotlib.lines.Line2D at 0x2173068be80>]"
      ]
     },
     "execution_count": 14,
     "metadata": {},
     "output_type": "execute_result"
    },
    {
     "data": {
      "image/png": "[encoded data removed]",
      "text/plain": [
       "<Figure size 432x288 with 1 Axes>"
      ]
     },
     "metadata": {
      "needs_background": "light"
     },
     "output_type": "display_data"
    }
   ],
   "source": [
    "from matplotlib import pyplot as plt\n",
    "plt.plot(model.history.history['loss'],'b')\n",
    "plt.plot(model.history.history['val_loss'],'r')\n",
    "\n",
    "\n"
   ]
  },
  {
   "cell_type": "code",
   "execution_count": 15,
   "id": "8e14c6e5",
   "metadata": {
    "colab": {
     "base_uri": "https://localhost:8080/",
     "height": 282
    },
    "executionInfo": {
     "elapsed": 668,
     "status": "ok",
     "timestamp": 1655127674642,
     "user": {
      "displayName": "Sanjula Kalansooriya",
      "userId": "18016726376643910942"
     },
     "user_tz": -330
    },
    "id": "bl16NY7aS3_9",
    "outputId": "965e7f1e-e037-4feb-aa02-f3600abbd76a"
   },
   "outputs": [
    {
     "data": {
      "text/plain": [
       "[<matplotlib.lines.Line2D at 0x21730790100>]"
      ]
     },
     "execution_count": 15,
     "metadata": {},
     "output_type": "execute_result"
    },
    {
     "data": {
      "image/png": "[encoded data removed]",
      "text/plain": [
       "<Figure size 432x288 with 1 Axes>"
      ]
     },
     "metadata": {
      "needs_background": "light"
     },
     "output_type": "display_data"
    }
   ],
   "source": [
    "plt.plot(model.history.history['accuracy'],'b')\n",
    "plt.plot(model.history.history['val_accuracy'],'r')"
   ]
  },
  {
   "cell_type": "code",
   "execution_count": 16,
   "id": "9fbe9065",
   "metadata": {
    "executionInfo": {
     "elapsed": 347,
     "status": "ok",
     "timestamp": 1655127688182,
     "user": {
      "displayName": "Sanjula Kalansooriya",
      "userId": "18016726376643910942"
     },
     "user_tz": -330
    },
    "id": "9vxCkA9efOu7"
   },
   "outputs": [],
   "source": [
    "model.save_weights(r'TEST1.h5')"
   ]
  },
  {
   "cell_type": "code",
   "execution_count": 18,
   "id": "cb50a9d8",
   "metadata": {
    "colab": {
     "base_uri": "https://localhost:8080/"
    },
    "executionInfo": {
     "elapsed": 1970,
     "status": "ok",
     "timestamp": 1655127691983,
     "user": {
      "displayName": "Sanjula Kalansooriya",
      "userId": "18016726376643910942"
     },
     "user_tz": -330
    },
    "id": "511GBG79SCIe",
    "outputId": "4df6dba3-74cf-4af7-ed81-4318288d04da"
   },
   "outputs": [
    {
     "name": "stdout",
     "output_type": "stream",
     "text": [
      "1743/1743 [==============================] - 97s 56ms/step - loss: 0.0644 - accuracy: 0.9765\n",
      "[0.06435137987136841, 0.9764689207077026]\n",
      "1743/1743 [==============================] - 95s 54ms/step\n"
     ]
    }
   ],
   "source": [
    "print(model.evaluate(test_data,test_target))\n",
    "predicted_target=model.predict(test_data)\n"
   ]
  },
  {
   "cell_type": "code",
   "execution_count": null,
   "id": "e6558d91",
   "metadata": {},
   "outputs": [],
   "source": []
  }
 ],
 "metadata": {
  "kernelspec": {
   "display_name": "Python 3 (ipykernel)",
   "language": "python",
   "name": "python3"
  },
  "language_info": {
   "codemirror_mode": {
    "name": "ipython",
    "version": 3
   },
   "file_extension": ".py",
   "mimetype": "text/x-python",
   "name": "python",
   "nbconvert_exporter": "python",
   "pygments_lexer": "ipython3",
   "version": "3.9.7"
  }
 },
 "nbformat": 4,
 "nbformat_minor": 5
}
