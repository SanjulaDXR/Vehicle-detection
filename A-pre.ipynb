{
 "cells": [
  {
   "cell_type": "code",
   "execution_count": 4,
   "id": "650a6ee9",
   "metadata": {},
   "outputs": [
    {
     "name": "stdout",
     "output_type": "stream",
     "text": [
      "['non-vehicles', 'vehicles']\n",
      "[0 1]\n",
      "{'non-vehicles': 0, 'vehicles': 1}\n"
     ]
    }
   ],
   "source": [
    "import os \n",
    "import numpy as np\n",
    "\n",
    "data_path=r'dataset' #path for dataset\n",
    "\n",
    "categories=os.listdir(data_path) #category types in the dataset\n",
    "\n",
    "print(categories)\n",
    "labels=np.arange(len(categories))\n",
    "print(labels)\n",
    "label_dict=dict(zip(categories,labels))\n",
    "print(label_dict)"
   ]
  },
  {
   "cell_type": "code",
   "execution_count": 6,
   "id": "421e552b",
   "metadata": {},
   "outputs": [],
   "source": [
    "import cv2\n",
    "\n",
    "img_size=64 #img size 100,100\n",
    "\n",
    "test_data=[]\n",
    "test_target=[]\n",
    "\n",
    "for category in categories:\n",
    "    \n",
    "    imgs_path=os.path.join(data_path,category)\n",
    "    img_names=os.listdir(imgs_path)\n",
    "    #print(img_names)\n",
    "    \n",
    "    for img_name in img_names: #apply preprocessing to data in dataset\n",
    "        \n",
    "        img_path=os.path.join(imgs_path,img_name)\n",
    "        #print(img_path)\n",
    "        try:\n",
    "            img=cv2.imread(img_path)\n",
    "            img=cv2.cvtColor(img,cv2.COLOR_BGR2GRAY) #convert ti \n",
    "            img=cv2.resize(img,(img_size,img_size))\n",
    "            test_data.append(img)\n",
    "            test_target.append(label_dict[category])\n",
    "        except Exception as e:\n",
    "            print(img_path,e)"
   ]
  },
  {
   "cell_type": "code",
   "execution_count": 7,
   "id": "f1625255",
   "metadata": {},
   "outputs": [],
   "source": [
    "data_new=np.array(test_data)\n",
    "target_new=np.array(test_target)"
   ]
  },
  {
   "cell_type": "code",
   "execution_count": 8,
   "id": "d7c2b4a8",
   "metadata": {},
   "outputs": [
    {
     "name": "stdout",
     "output_type": "stream",
     "text": [
      "(55756, 64, 64)\n",
      "(55756,)\n"
     ]
    }
   ],
   "source": [
    "print(data_new.shape)\n",
    "print(target_new.shape)"
   ]
  },
  {
   "cell_type": "code",
   "execution_count": 9,
   "id": "ed5f8606",
   "metadata": {},
   "outputs": [
    {
     "data": {
      "text/plain": [
       "<matplotlib.image.AxesImage at 0x2e93cdce160>"
      ]
     },
     "execution_count": 9,
     "metadata": {},
     "output_type": "execute_result"
    },
    {
     "data": {
      "image/png": "[encoded data removed]",
      "text/plain": [
       "<Figure size 432x288 with 1 Axes>"
      ]
     },
     "metadata": {
      "needs_background": "light"
     },
     "output_type": "display_data"
    }
   ],
   "source": [
    "from matplotlib import pyplot as plt\n",
    "\n",
    "plt.imshow(test_data[45],cmap='gray')"
   ]
  },
  {
   "cell_type": "code",
   "execution_count": 10,
   "id": "a8e8f24d",
   "metadata": {},
   "outputs": [
    {
     "data": {
      "text/plain": [
       "0"
      ]
     },
     "execution_count": 10,
     "metadata": {},
     "output_type": "execute_result"
    }
   ],
   "source": [
    "target_new[45]"
   ]
  },
  {
   "cell_type": "code",
   "execution_count": 11,
   "id": "e8d2e457",
   "metadata": {},
   "outputs": [
    {
     "name": "stdout",
     "output_type": "stream",
     "text": [
      "(55756, 64, 64)\n",
      "55756 64 64\n"
     ]
    }
   ],
   "source": [
    "print(data_new.shape)\n",
    "print(data_new.shape[0],data_new.shape[1],data_new.shape[2])"
   ]
  },
  {
   "cell_type": "code",
   "execution_count": 12,
   "id": "a3597209",
   "metadata": {},
   "outputs": [
    {
     "name": "stdout",
     "output_type": "stream",
     "text": [
      "(55756, 64, 64, 1)\n"
     ]
    }
   ],
   "source": [
    "data_new=data_new.reshape(data_new.shape[0],data_new.shape[1],data_new.shape[2],1) # converting to 4D, CNN needs 4D input\n",
    "print(data_new.shape)"
   ]
  },
  {
   "cell_type": "code",
   "execution_count": 13,
   "id": "68df4060",
   "metadata": {},
   "outputs": [],
   "source": [
    "data_new=data_new/255 #normalizing/ Scaling\n",
    "\n",
    "from keras.utils import np_utils\n",
    "\n",
    "target_new=np_utils.to_categorical(target_new)"
   ]
  },
  {
   "cell_type": "code",
   "execution_count": 14,
   "id": "ba6fa132",
   "metadata": {},
   "outputs": [],
   "source": [
    "np.save('test_data',data_new)\n",
    "np.save('test_target',target_new)"
   ]
  },
  {
   "cell_type": "code",
   "execution_count": null,
   "id": "6af8942b",
   "metadata": {},
   "outputs": [],
   "source": []
  },
  {
   "cell_type": "code",
   "execution_count": null,
   "id": "40209390",
   "metadata": {},
   "outputs": [],
   "source": []
  },
  {
   "cell_type": "code",
   "execution_count": null,
   "id": "cff10797",
   "metadata": {},
   "outputs": [],
   "source": []
  },
  {
   "cell_type": "code",
   "execution_count": null,
   "id": "6aaf6c3d",
   "metadata": {},
   "outputs": [],
   "source": []
  },
  {
   "cell_type": "code",
   "execution_count": null,
   "id": "fceb478e",
   "metadata": {},
   "outputs": [],
   "source": []
  }
 ],
 "metadata": {
  "kernelspec": {
   "display_name": "Python 3 (ipykernel)",
   "language": "python",
   "name": "python3"
  },
  "language_info": {
   "codemirror_mode": {
    "name": "ipython",
    "version": 3
   },
   "file_extension": ".py",
   "mimetype": "text/x-python",
   "name": "python",
   "nbconvert_exporter": "python",
   "pygments_lexer": "ipython3",
   "version": "3.9.7"
  }
 },
 "nbformat": 4,
 "nbformat_minor": 5
}
